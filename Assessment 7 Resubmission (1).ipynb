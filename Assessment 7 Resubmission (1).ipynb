{
 "cells": [
  {
   "cell_type": "code",
   "execution_count": 71,
   "metadata": {},
   "outputs": [],
   "source": [
    "class allHolidays(object):\n",
    "    def __init__(self, name, date, week):\n",
    "        self._name = name\n",
    "        self._date = date\n",
    "        self._week = week\n",
    "\n",
    "    #Returns holidayname (date) format\n",
    "    def holiday(self):\n",
    "        return (self.name, self.date)\n",
    "       \n",
    "    #I wanted to use @name.deleter for my decorator but it would not run I am not sure why\n",
    "    @property\n",
    "    def name(self):\n",
    "        del self.name\n",
    "        print('Success:')\n",
    "        print(f'{self.name} has been removed from the holiday list.')"
   ]
  },
  {
   "cell_type": "code",
   "execution_count": 2,
   "metadata": {},
   "outputs": [],
   "source": [
    "import json\n",
    "from datetime import datetime\n",
    "from bs4 import BeautifulSoup\n",
    "import requests"
   ]
  },
  {
   "cell_type": "code",
   "execution_count": 3,
   "metadata": {},
   "outputs": [],
   "source": [
    "def getHTML(url):\n",
    "    response = requests.get(url)\n",
    "    return response.text"
   ]
  },
  {
   "cell_type": "code",
   "execution_count": 4,
   "metadata": {},
   "outputs": [],
   "source": [
    "holidayhtml = getHTML(\"https://www.timeanddate.com/holidays/us/\")\n",
    "holidaysoup = BeautifulSoup(holidayhtml, 'html.parser')\n",
    "holidaytable = holidaysoup.find('table')"
   ]
  },
  {
   "cell_type": "code",
   "execution_count": 5,
   "metadata": {},
   "outputs": [],
   "source": [
    "namelist = []\n",
    "for row in holidaytable.findAll('a'):\n",
    "    name = ''.join(row.findAll(text=True))\n",
    "    namelist.append(name)"
   ]
  },
  {
   "cell_type": "code",
   "execution_count": 6,
   "metadata": {},
   "outputs": [],
   "source": [
    "datelist = []\n",
    "for row in holidaytable.findAll('th',{'class':'nw'}):\n",
    "    date = ''.join(row.findAll(text=True))\n",
    "    date = (datetime.strptime(date, '%b %d')).date()\n",
    "    date = date.replace(2021)\n",
    "    datelist.append(date)"
   ]
  },
  {
   "cell_type": "code",
   "execution_count": 7,
   "metadata": {},
   "outputs": [
    {
     "name": "stdout",
     "output_type": "stream",
     "text": [
      "['01', '02', '02', '02', '02', '02', '02']\n"
     ]
    }
   ],
   "source": [
    "holiday_doc = 'C:/Users/Deehan/Downloads/holidays.json'\n",
    "f = open(holiday_doc)\n",
    "holidays = json.load(f)\n",
    "holidaylist = list(*holidays.values())\n",
    "f.close()\n",
    "\n",
    "weeklist = []\n",
    "get_weeks = [i['date'] for i in holidaylist]\n",
    "for i in get_weeks:\n",
    "    i = datetime.strptime(i, '%Y-%m-%d')\n",
    "    i = i.strftime('%V')\n",
    "    weeklist.append(i)\n",
    "\n",
    "print(weeklist)\n",
    "for i in holidaylist:\n",
    "    for j in weeklist:\n",
    "        i.update({'week':j})\n"
   ]
  },
  {
   "cell_type": "code",
   "execution_count": 8,
   "metadata": {},
   "outputs": [],
   "source": [
    "weeklist = []\n",
    "for i in datelist:\n",
    "    w = i.strftime(\"%V\")\n",
    "    weeklist.append(w)\n"
   ]
  },
  {
   "cell_type": "code",
   "execution_count": 9,
   "metadata": {},
   "outputs": [
    {
     "name": "stdout",
     "output_type": "stream",
     "text": [
      "[{'name': 'Margaret Thatcher Day', 'date': '2021-01-10', 'week': '02'}, {'name': 'World Sketchnote Day', 'date': '2021-01-11', 'week': '02'}, {'name': 'Zanzibar Revolution Day', 'date': '2021-01-12', 'week': '02'}, {'name': 'National Rubber Ducky Day', 'date': '2021-01-13', 'week': '02'}, {'name': 'Tamil Thai Pongdal Day', 'date': '2021-01-14', 'week': '02'}, {'name': 'National Bagel Day', 'date': '2021-01-15', 'week': '02'}, {'name': 'Signing of the Peace Accords', 'date': '2021-01-16', 'week': '02'}, {'name': \"New Year's Day\", 'date': datetime.date(2021, 1, 1), 'week': '53'}, {'name': \"New Year's Day\", 'date': datetime.date(2021, 1, 1), 'week': '53'}, {'name': 'World Braille Day', 'date': datetime.date(2021, 1, 4), 'week': '01'}, {'name': 'Epiphany', 'date': datetime.date(2021, 1, 6), 'week': '01'}, {'name': 'Orthodox Christmas Day', 'date': datetime.date(2021, 1, 7), 'week': '01'}, {'name': \"International Programmers' Day\", 'date': datetime.date(2021, 1, 7), 'week': '01'}, {'name': 'Stephen Foster Memorial Day', 'date': datetime.date(2021, 1, 13), 'week': '02'}, {'name': 'Orthodox New Year', 'date': datetime.date(2021, 1, 14), 'week': '02'}, {'name': 'World Religion Day', 'date': datetime.date(2021, 1, 17), 'week': '02'}, {'name': 'Martin Luther King Jr. Day', 'date': datetime.date(2021, 1, 18), 'week': '03'}, {'name': 'Martin Luther King Jr. Day', 'date': datetime.date(2021, 1, 18), 'week': '03'}, {'name': \"Robert E. Lee's Birthday\", 'date': datetime.date(2021, 1, 18), 'week': '03'}, {'name': \"Robert E. Lee's Birthday\", 'date': datetime.date(2021, 1, 18), 'week': '03'}, {'name': 'Idaho Human Rights Day', 'date': datetime.date(2021, 1, 18), 'week': '03'}, {'name': 'Civil Rights Day', 'date': datetime.date(2021, 1, 18), 'week': '03'}, {'name': \"Robert E. Lee's Birthday\", 'date': datetime.date(2021, 1, 19), 'week': '03'}, {'name': \"Confederate Heroes' Day\", 'date': datetime.date(2021, 1, 19), 'week': '03'}, {'name': 'Inauguration Day', 'date': datetime.date(2021, 1, 20), 'week': '03'}, {'name': 'Inauguration Day', 'date': datetime.date(2021, 1, 20), 'week': '03'}, {'name': 'International Day of Education', 'date': datetime.date(2021, 1, 24), 'week': '03'}, {'name': 'International Customs Day', 'date': datetime.date(2021, 1, 26), 'week': '04'}, {'name': 'International Day of Commemoration in Memory of the Victims of the Holocaust', 'date': datetime.date(2021, 1, 27), 'week': '04'}, {'name': \"Tu Bishvat/Tu B'Shevat\", 'date': datetime.date(2021, 1, 28), 'week': '04'}, {'name': 'Kansas Day', 'date': datetime.date(2021, 1, 29), 'week': '04'}, {'name': 'World Leprosy Day', 'date': datetime.date(2021, 1, 31), 'week': '04'}, {'name': 'National Freedom Day', 'date': datetime.date(2021, 2, 1), 'week': '05'}, {'name': 'First Day of Black History Month', 'date': datetime.date(2021, 2, 1), 'week': '05'}, {'name': 'World Wetlands Day', 'date': datetime.date(2021, 2, 2), 'week': '05'}, {'name': 'Groundhog Day', 'date': datetime.date(2021, 2, 2), 'week': '05'}, {'name': 'International Day of Human Fraternity', 'date': datetime.date(2021, 2, 4), 'week': '05'}, {'name': 'World Cancer Day', 'date': datetime.date(2021, 2, 4), 'week': '05'}, {'name': 'Rosa Parks Day', 'date': datetime.date(2021, 2, 4), 'week': '05'}, {'name': 'National Wear Red Day', 'date': datetime.date(2021, 2, 5), 'week': '05'}, {'name': 'International Day of Zero Tolerance for Female Genital Mutilation', 'date': datetime.date(2021, 2, 6), 'week': '05'}, {'name': 'Super Bowl', 'date': datetime.date(2021, 2, 7), 'week': '05'}, {'name': 'World Pulses Day', 'date': datetime.date(2021, 2, 10), 'week': '06'}, {'name': 'International Day of Women and Girls in Science', 'date': datetime.date(2021, 2, 11), 'week': '06'}, {'name': 'World Day of the Sick', 'date': datetime.date(2021, 2, 11), 'week': '06'}, {'name': \"Lincoln's Birthday\", 'date': datetime.date(2021, 2, 12), 'week': '06'}, {'name': \"Lincoln's Birthday\", 'date': datetime.date(2021, 2, 12), 'week': '06'}, {'name': 'Chinese New Year', 'date': datetime.date(2021, 2, 12), 'week': '06'}, {'name': 'World Radio Day', 'date': datetime.date(2021, 2, 13), 'week': '06'}, {'name': \"Valentine's Day\", 'date': datetime.date(2021, 2, 14), 'week': '06'}, {'name': 'Statehood Day', 'date': datetime.date(2021, 2, 14), 'week': '06'}, {'name': \"Presidents' Day\", 'date': datetime.date(2021, 2, 15), 'week': '07'}, {'name': \"Presidents' Day\", 'date': datetime.date(2021, 2, 15), 'week': '07'}, {'name': \"Presidents' Day\", 'date': datetime.date(2021, 2, 15), 'week': '07'}, {'name': 'Daisy Gatson Bates Day', 'date': datetime.date(2021, 2, 15), 'week': '07'}, {'name': \"Susan B. Anthony's Birthday\", 'date': datetime.date(2021, 2, 15), 'week': '07'}, {'name': 'Shrove Tuesday/Mardi Gras', 'date': datetime.date(2021, 2, 16), 'week': '07'}, {'name': 'Shrove Tuesday/Mardi Gras', 'date': datetime.date(2021, 2, 16), 'week': '07'}, {'name': 'Elizabeth Peratrovich Day', 'date': datetime.date(2021, 2, 16), 'week': '07'}, {'name': 'Ash Wednesday', 'date': datetime.date(2021, 2, 17), 'week': '07'}, {'name': 'World Day of Social Justice', 'date': datetime.date(2021, 2, 20), 'week': '07'}, {'name': 'International Mother Language Day', 'date': datetime.date(2021, 2, 21), 'week': '07'}, {'name': 'George Rogers Clark Day', 'date': datetime.date(2021, 2, 25), 'week': '08'}, {'name': 'Purim', 'date': datetime.date(2021, 2, 26), 'week': '08'}, {'name': 'Linus Pauling Day', 'date': datetime.date(2021, 2, 28), 'week': '08'}, {'name': 'Zero Discrimination Day', 'date': datetime.date(2021, 3, 1), 'week': '09'}, {'name': 'Self-Injury Awareness Day', 'date': datetime.date(2021, 3, 1), 'week': '09'}, {'name': \"St. David's Day\", 'date': datetime.date(2021, 3, 1), 'week': '09'}, {'name': 'Casimir Pulaski Day', 'date': datetime.date(2021, 3, 1), 'week': '09'}, {'name': \"First Day of Women's History Month\", 'date': datetime.date(2021, 3, 1), 'week': '09'}, {'name': 'First Day of Irish American Heritage Month', 'date': datetime.date(2021, 3, 1), 'week': '09'}, {'name': 'Texas Independence Day', 'date': datetime.date(2021, 3, 2), 'week': '09'}, {'name': 'Read Across America Day', 'date': datetime.date(2021, 3, 2), 'week': '09'}, {'name': 'Town Meeting Day', 'date': datetime.date(2021, 3, 2), 'week': '09'}, {'name': 'World Wildlife Day', 'date': datetime.date(2021, 3, 3), 'week': '09'}, {'name': 'Employee Appreciation Day', 'date': datetime.date(2021, 3, 5), 'week': '09'}, {'name': \"International Women's Day\", 'date': datetime.date(2021, 3, 8), 'week': '10'}, {'name': 'Maha Shivaratri', 'date': datetime.date(2021, 3, 11), 'week': '10'}, {'name': \"Isra and Mi'raj\", 'date': datetime.date(2021, 3, 11), 'week': '10'}, {'name': 'World Kidney Day', 'date': datetime.date(2021, 3, 11), 'week': '10'}, {'name': 'Daylight Saving Time starts', 'date': datetime.date(2021, 3, 14), 'week': '10'}, {'name': \"St. Patrick's Day\", 'date': datetime.date(2021, 3, 17), 'week': '11'}, {'name': 'Evacuation Day', 'date': datetime.date(2021, 3, 17), 'week': '11'}, {'name': 'French Language Day', 'date': datetime.date(2021, 3, 20), 'week': '11'}, {'name': 'International Day of Happiness', 'date': datetime.date(2021, 3, 20), 'week': '11'}, {'name': 'March Equinox', 'date': datetime.date(2021, 3, 20), 'week': '11'}, {'name': 'International Day for the Elimination of Racial Discrimination', 'date': datetime.date(2021, 3, 21), 'week': '11'}, {'name': 'World Poetry Day', 'date': datetime.date(2021, 3, 21), 'week': '11'}, {'name': 'International Day of Nowruz', 'date': datetime.date(2021, 3, 21), 'week': '11'}, {'name': 'World Down Syndrome Day', 'date': datetime.date(2021, 3, 21), 'week': '11'}, {'name': 'International Day of Forests', 'date': datetime.date(2021, 3, 21), 'week': '11'}, {'name': 'World Water Day', 'date': datetime.date(2021, 3, 22), 'week': '12'}, {'name': 'World Meteorological Day', 'date': datetime.date(2021, 3, 23), 'week': '12'}, {'name': 'World Tuberculosis Day', 'date': datetime.date(2021, 3, 24), 'week': '12'}, {'name': 'International Day for the Right to the Truth concerning Gross Human Rights Violations and for the Dignity of Victims', 'date': datetime.date(2021, 3, 24), 'week': '12'}, {'name': 'International Day of Remembrance of Slavery Victims and the Transatlantic Slave Trade', 'date': datetime.date(2021, 3, 25), 'week': '12'}, {'name': 'International Day of Solidarity with Detained and Missing Staff Members', 'date': datetime.date(2021, 3, 25), 'week': '12'}, {'name': 'Maryland Day', 'date': datetime.date(2021, 3, 25), 'week': '12'}, {'name': 'Prince Jonah Kuhio Kalanianaole Day', 'date': datetime.date(2021, 3, 26), 'week': '12'}, {'name': 'Passover Eve', 'date': datetime.date(2021, 3, 27), 'week': '12'}, {'name': 'Earth Hour', 'date': datetime.date(2021, 3, 27), 'week': '12'}, {'name': 'Palm Sunday', 'date': datetime.date(2021, 3, 28), 'week': '12'}, {'name': 'Holi', 'date': datetime.date(2021, 3, 28), 'week': '12'}, {'name': 'Passover (first day)', 'date': datetime.date(2021, 3, 28), 'week': '12'}, {'name': \"Seward's Day\", 'date': datetime.date(2021, 3, 29), 'week': '13'}, {'name': 'National Vietnam War Veterans Day', 'date': datetime.date(2021, 3, 29), 'week': '13'}, {'name': \"Doctors' Day\", 'date': datetime.date(2021, 3, 30), 'week': '13'}, {'name': 'César Chávez Day', 'date': datetime.date(2021, 3, 31), 'week': '13'}, {'name': 'Maundy Thursday', 'date': datetime.date(2021, 4, 1), 'week': '13'}, {'name': \"April Fool's Day\", 'date': datetime.date(2021, 4, 1), 'week': '13'}, {'name': 'World Autism Awareness Day', 'date': datetime.date(2021, 4, 2), 'week': '13'}, {'name': 'Good Friday', 'date': datetime.date(2021, 4, 2), 'week': '13'}, {'name': 'Pascua Florida Day', 'date': datetime.date(2021, 4, 2), 'week': '13'}, {'name': 'Holy Saturday', 'date': datetime.date(2021, 4, 3), 'week': '13'}, {'name': 'Last Day of Passover', 'date': datetime.date(2021, 4, 4), 'week': '13'}, {'name': \"United Nations' Mine Awareness Day\", 'date': datetime.date(2021, 4, 4), 'week': '13'}, {'name': 'Easter Sunday', 'date': datetime.date(2021, 4, 4), 'week': '13'}, {'name': 'International Day of Conscience', 'date': datetime.date(2021, 4, 5), 'week': '14'}, {'name': 'Easter Monday', 'date': datetime.date(2021, 4, 5), 'week': '14'}, {'name': 'International Day of Sport for Development and Peace', 'date': datetime.date(2021, 4, 6), 'week': '14'}, {'name': 'National Tartan Day', 'date': datetime.date(2021, 4, 6), 'week': '14'}, {'name': \"National Library Workers' Day\", 'date': datetime.date(2021, 4, 6), 'week': '14'}, {'name': \"United Nations' World Health Day\", 'date': datetime.date(2021, 4, 7), 'week': '14'}, {'name': 'Day of Remembrance of the Victims of the Rwanda Genocide', 'date': datetime.date(2021, 4, 7), 'week': '14'}, {'name': 'Yom HaShoah', 'date': datetime.date(2021, 4, 8), 'week': '14'}, {'name': 'International Day of Human Space Flight', 'date': datetime.date(2021, 4, 12), 'week': '15'}, {'name': 'Ramadan Starts', 'date': datetime.date(2021, 4, 13), 'week': '15'}, {'name': \"Thomas Jefferson's Birthday\", 'date': datetime.date(2021, 4, 13), 'week': '15'}, {'name': 'World Chagas Disease Day', 'date': datetime.date(2021, 4, 14), 'week': '15'}, {'name': \"Yom Ha'atzmaut\", 'date': datetime.date(2021, 4, 15), 'week': '15'}, {'name': 'Father Damien Day', 'date': datetime.date(2021, 4, 15), 'week': '15'}, {'name': 'Emancipation Day', 'date': datetime.date(2021, 4, 16), 'week': '15'}, {'name': 'International Day for Monuments and Sites', 'date': datetime.date(2021, 4, 18), 'week': '15'}, {'name': \"Patriots' Day\", 'date': datetime.date(2021, 4, 19), 'week': '16'}, {'name': 'Chinese Language Day', 'date': datetime.date(2021, 4, 20), 'week': '16'}, {'name': 'World Creativity and Innovation Day', 'date': datetime.date(2021, 4, 21), 'week': '16'}, {'name': 'San Jacinto Day', 'date': datetime.date(2021, 4, 21), 'week': '16'}, {'name': 'Administrative Professionals Day', 'date': datetime.date(2021, 4, 21), 'week': '16'}, {'name': 'International Girls in ICT Day', 'date': datetime.date(2021, 4, 22), 'week': '16'}, {'name': 'Earth Day', 'date': datetime.date(2021, 4, 22), 'week': '16'}, {'name': 'Oklahoma Day', 'date': datetime.date(2021, 4, 22), 'week': '16'}, {'name': 'Take our Daughters and Sons to Work Day', 'date': datetime.date(2021, 4, 22), 'week': '16'}, {'name': 'World Book and Copyright Day', 'date': datetime.date(2021, 4, 23), 'week': '16'}, {'name': 'English Language Day', 'date': datetime.date(2021, 4, 23), 'week': '16'}, {'name': 'International Day of Multilateralism and Diplomacy for Peace', 'date': datetime.date(2021, 4, 24), 'week': '16'}, {'name': \"International Delegate's Day\", 'date': datetime.date(2021, 4, 25), 'week': '16'}, {'name': 'World Malaria Day', 'date': datetime.date(2021, 4, 25), 'week': '16'}, {'name': 'World Intellectual Property Day', 'date': datetime.date(2021, 4, 26), 'week': '17'}, {'name': 'International Chernobyl Disaster Remembrance Day', 'date': datetime.date(2021, 4, 26), 'week': '17'}, {'name': 'Confederate Memorial Day', 'date': datetime.date(2021, 4, 26), 'week': '17'}, {'name': 'Confederate Memorial Day', 'date': datetime.date(2021, 4, 26), 'week': '17'}, {'name': \"Confederate Heroes' Day\", 'date': datetime.date(2021, 4, 26), 'week': '17'}, {'name': 'World Day for Safety and Health at Work', 'date': datetime.date(2021, 4, 28), 'week': '17'}, {'name': 'Lag BaOmer', 'date': datetime.date(2021, 4, 30), 'week': '17'}, {'name': 'Orthodox Good Friday', 'date': datetime.date(2021, 4, 30), 'week': '17'}, {'name': 'International Jazz Day', 'date': datetime.date(2021, 4, 30), 'week': '17'}, {'name': 'Arbor Day', 'date': datetime.date(2021, 4, 30), 'week': '17'}, {'name': 'Kentucky Oaks', 'date': datetime.date(2021, 4, 30), 'week': '17'}, {'name': 'Orthodox Holy Saturday', 'date': datetime.date(2021, 5, 1), 'week': '17'}, {'name': 'Kentucky Derby', 'date': datetime.date(2021, 5, 1), 'week': '17'}, {'name': 'Law Day', 'date': datetime.date(2021, 5, 1), 'week': '17'}, {'name': 'Loyalty Day', 'date': datetime.date(2021, 5, 1), 'week': '17'}, {'name': 'National Explosive Ordnance Disposal (EOD) Day', 'date': datetime.date(2021, 5, 1), 'week': '17'}, {'name': 'Lei Day', 'date': datetime.date(2021, 5, 1), 'week': '17'}, {'name': 'First Day of Asian Pacific American Heritage Month', 'date': datetime.date(2021, 5, 1), 'week': '17'}, {'name': 'First Day of Jewish American Heritage Month', 'date': datetime.date(2021, 5, 1), 'week': '17'}, {'name': 'Orthodox Easter', 'date': datetime.date(2021, 5, 2), 'week': '17'}, {'name': 'World Tuna Day', 'date': datetime.date(2021, 5, 2), 'week': '17'}, {'name': 'Orthodox Easter Monday', 'date': datetime.date(2021, 5, 3), 'week': '18'}, {'name': 'World Press Freedom Day', 'date': datetime.date(2021, 5, 3), 'week': '18'}, {'name': 'Kent State Shootings Remembrance', 'date': datetime.date(2021, 5, 4), 'week': '18'}, {'name': 'Rhode Island Independence Day', 'date': datetime.date(2021, 5, 4), 'week': '18'}, {'name': 'World Portuguese Language Day', 'date': datetime.date(2021, 5, 5), 'week': '18'}, {'name': 'Cinco de Mayo', 'date': datetime.date(2021, 5, 5), 'week': '18'}, {'name': 'National Nurses Day', 'date': datetime.date(2021, 5, 6), 'week': '18'}, {'name': 'National Day of Prayer', 'date': datetime.date(2021, 5, 6), 'week': '18'}, {'name': 'Truman Day observed', 'date': datetime.date(2021, 5, 7), 'week': '18'}, {'name': 'Military Spouse Appreciation Day', 'date': datetime.date(2021, 5, 7), 'week': '18'}, {'name': 'Lailat al-Qadr', 'date': datetime.date(2021, 5, 8), 'week': '18'}, {'name': 'Time of Remembrance and Reconciliation for Those Who Lost Their Lives during the Second World War', 'date': datetime.date(2021, 5, 8), 'week': '18'}, {'name': 'World Migratory Bird Day', 'date': datetime.date(2021, 5, 8), 'week': '18'}, {'name': 'World Ovarian Cancer Day', 'date': datetime.date(2021, 5, 8), 'week': '18'}, {'name': 'World Red Cross and Red Crescent Day', 'date': datetime.date(2021, 5, 8), 'week': '18'}, {'name': 'Truman Day', 'date': datetime.date(2021, 5, 8), 'week': '18'}, {'name': 'Victory in Europe Day', 'date': datetime.date(2021, 5, 8), 'week': '18'}, {'name': \"Mother's Day\", 'date': datetime.date(2021, 5, 9), 'week': '18'}, {'name': 'International Day of Argania', 'date': datetime.date(2021, 5, 10), 'week': '19'}, {'name': 'Confederate Memorial Day', 'date': datetime.date(2021, 5, 10), 'week': '19'}, {'name': 'Confederate Memorial Day', 'date': datetime.date(2021, 5, 10), 'week': '19'}, {'name': 'International Nurses Day', 'date': datetime.date(2021, 5, 12), 'week': '19'}, {'name': 'Ascension Day', 'date': datetime.date(2021, 5, 13), 'week': '19'}, {'name': 'Eid al-Fitr', 'date': datetime.date(2021, 5, 13), 'week': '19'}, {'name': 'Native American Day', 'date': datetime.date(2021, 5, 14), 'week': '19'}, {'name': 'International Day of Families', 'date': datetime.date(2021, 5, 15), 'week': '19'}, {'name': 'Peace Officers Memorial Day', 'date': datetime.date(2021, 5, 15), 'week': '19'}, {'name': 'Armed Forces Day', 'date': datetime.date(2021, 5, 15), 'week': '19'}, {'name': 'Preakness Stakes', 'date': datetime.date(2021, 5, 15), 'week': '19'}, {'name': 'International Day of Living Together in Peace', 'date': datetime.date(2021, 5, 16), 'week': '19'}, {'name': 'International Day of Light', 'date': datetime.date(2021, 5, 16), 'week': '19'}, {'name': 'Shavuot', 'date': datetime.date(2021, 5, 17), 'week': '20'}, {'name': 'World Information Society Day', 'date': datetime.date(2021, 5, 17), 'week': '20'}, {'name': 'Tax Day', 'date': datetime.date(2021, 5, 17), 'week': '20'}, {'name': 'Emergency Medical Services for Children Day', 'date': datetime.date(2021, 5, 19), 'week': '20'}, {'name': 'World Bee Day', 'date': datetime.date(2021, 5, 20), 'week': '20'}, {'name': 'World Autoimmune / Autoinflammatory Arthritis Day', 'date': datetime.date(2021, 5, 20), 'week': '20'}, {'name': 'World Day for Cultural Diversity for Dialogue and Development', 'date': datetime.date(2021, 5, 21), 'week': '20'}, {'name': 'International Tea Day', 'date': datetime.date(2021, 5, 21), 'week': '20'}, {'name': 'National Defense Transportation Day', 'date': datetime.date(2021, 5, 21), 'week': '20'}, {'name': 'International Day for Biological Diversity', 'date': datetime.date(2021, 5, 22), 'week': '20'}, {'name': 'National Maritime Day', 'date': datetime.date(2021, 5, 22), 'week': '20'}, {'name': 'Harvey Milk Day', 'date': datetime.date(2021, 5, 22), 'week': '20'}, {'name': 'Pentecost', 'date': datetime.date(2021, 5, 23), 'week': '20'}, {'name': 'International Day to End Obstetric Fistula', 'date': datetime.date(2021, 5, 23), 'week': '20'}, {'name': 'Whit Monday', 'date': datetime.date(2021, 5, 24), 'week': '21'}, {'name': 'African Liberation Day', 'date': datetime.date(2021, 5, 25), 'week': '21'}, {'name': \"National Missing Children's Day\", 'date': datetime.date(2021, 5, 25), 'week': '21'}, {'name': 'Day of Vesak', 'date': datetime.date(2021, 5, 26), 'week': '21'}, {'name': 'International Day of United Nations Peacekeepers', 'date': datetime.date(2021, 5, 29), 'week': '21'}, {'name': 'Trinity Sunday', 'date': datetime.date(2021, 5, 30), 'week': '21'}, {'name': 'World No Tobacco Day', 'date': datetime.date(2021, 5, 31), 'week': '22'}, {'name': 'Memorial Day', 'date': datetime.date(2021, 5, 31), 'week': '22'}, {'name': \"Jefferson Davis' Birthday\", 'date': datetime.date(2021, 5, 31), 'week': '22'}, {'name': 'Global Day of Parents', 'date': datetime.date(2021, 6, 1), 'week': '22'}, {'name': 'First Day of Pride Month', 'date': datetime.date(2021, 6, 1), 'week': '22'}, {'name': 'First Day of Caribbean-American Heritage Month', 'date': datetime.date(2021, 6, 1), 'week': '22'}, {'name': 'Statehood Day', 'date': datetime.date(2021, 6, 1), 'week': '22'}, {'name': 'Native American Day', 'date': datetime.date(2021, 6, 2), 'week': '22'}, {'name': 'Corpus Christi', 'date': datetime.date(2021, 6, 3), 'week': '22'}, {'name': 'World Bicycle Day', 'date': datetime.date(2021, 6, 3), 'week': '22'}, {'name': \"Jefferson Davis' Birthday\", 'date': datetime.date(2021, 6, 3), 'week': '22'}, {'name': 'International Day of Innocent Children Victims of Aggression', 'date': datetime.date(2021, 6, 4), 'week': '22'}, {'name': 'World Environment Day', 'date': datetime.date(2021, 6, 5), 'week': '22'}, {'name': 'International Day for the Fight against Illegal, Unreported and Unregulated Fishing', 'date': datetime.date(2021, 6, 5), 'week': '22'}, {'name': 'Belmont Stakes', 'date': datetime.date(2021, 6, 5), 'week': '22'}, {'name': 'Day of the Russian Language', 'date': datetime.date(2021, 6, 6), 'week': '22'}, {'name': 'D-Day', 'date': datetime.date(2021, 6, 6), 'week': '22'}, {'name': 'World Food Safety Day', 'date': datetime.date(2021, 6, 7), 'week': '23'}, {'name': \"Jefferson Davis' Birthday\", 'date': datetime.date(2021, 6, 7), 'week': '23'}, {'name': 'World Oceans Day', 'date': datetime.date(2021, 6, 8), 'week': '23'}, {'name': 'Kamehameha Day', 'date': datetime.date(2021, 6, 11), 'week': '23'}, {'name': 'World Day Against Child Labour', 'date': datetime.date(2021, 6, 12), 'week': '23'}, {'name': 'Loving Day', 'date': datetime.date(2021, 6, 12), 'week': '23'}, {'name': 'International Albinism Awareness Day', 'date': datetime.date(2021, 6, 13), 'week': '23'}, {'name': 'Bunker Hill Day', 'date': datetime.date(2021, 6, 13), 'week': '23'}, {'name': 'World Blood Donor Day', 'date': datetime.date(2021, 6, 14), 'week': '24'}, {'name': 'Army Birthday', 'date': datetime.date(2021, 6, 14), 'week': '24'}, {'name': 'Flag Day', 'date': datetime.date(2021, 6, 14), 'week': '24'}, {'name': 'World Elder Abuse Awareness Day', 'date': datetime.date(2021, 6, 15), 'week': '24'}, {'name': 'International Day of Family Remittances', 'date': datetime.date(2021, 6, 16), 'week': '24'}, {'name': 'World Day to Combat Desertification and Drought', 'date': datetime.date(2021, 6, 17), 'week': '24'}, {'name': 'Sustainable Gastronomy Day', 'date': datetime.date(2021, 6, 18), 'week': '24'}, {'name': 'Day off for Juneteenth', 'date': datetime.date(2021, 6, 18), 'week': '24'}, {'name': 'Day off for Juneteenth National Freedom Day', 'date': datetime.date(2021, 6, 18), 'week': '24'}, {'name': 'Day off for Juneteenth', 'date': datetime.date(2021, 6, 18), 'week': '24'}, {'name': 'International Day for the Elimination of Sexual Violence in Conflict', 'date': datetime.date(2021, 6, 19), 'week': '24'}, {'name': 'Juneteenth', 'date': datetime.date(2021, 6, 19), 'week': '24'}, {'name': 'Juneteenth', 'date': datetime.date(2021, 6, 19), 'week': '24'}, {'name': 'Juneteenth Day', 'date': datetime.date(2021, 6, 19), 'week': '24'}, {'name': 'Juneteenth National Freedom Day', 'date': datetime.date(2021, 6, 19), 'week': '24'}, {'name': 'Juneteenth', 'date': datetime.date(2021, 6, 19), 'week': '24'}, {'name': 'Juneteenth National Independence Day', 'date': datetime.date(2021, 6, 19), 'week': '24'}, {'name': 'Emancipation Day', 'date': datetime.date(2021, 6, 19), 'week': '24'}, {'name': 'World Refugee Day', 'date': datetime.date(2021, 6, 20), 'week': '24'}, {'name': \"Father's Day\", 'date': datetime.date(2021, 6, 20), 'week': '24'}, {'name': 'West Virginia Day', 'date': datetime.date(2021, 6, 20), 'week': '24'}, {'name': 'American Eagle Day', 'date': datetime.date(2021, 6, 20), 'week': '24'}, {'name': 'June Solstice', 'date': datetime.date(2021, 6, 20), 'week': '24'}, {'name': 'International Day of Yoga', 'date': datetime.date(2021, 6, 21), 'week': '25'}, {'name': 'International Day of the Celebration of the Solstice', 'date': datetime.date(2021, 6, 21), 'week': '25'}, {'name': 'West Virginia Day observed', 'date': datetime.date(2021, 6, 21), 'week': '25'}, {'name': 'Public Service Day', 'date': datetime.date(2021, 6, 23), 'week': '25'}, {'name': \"International Widows' Day\", 'date': datetime.date(2021, 6, 23), 'week': '25'}, {'name': 'Day of the Seafarer', 'date': datetime.date(2021, 6, 25), 'week': '25'}, {'name': 'International Day Against Drug Abuse and Illicit Trafficking', 'date': datetime.date(2021, 6, 26), 'week': '25'}, {'name': 'International Day in Support of Victims of Torture', 'date': datetime.date(2021, 6, 26), 'week': '25'}, {'name': 'Micro-, Small and Medium-sized Enterprises Day', 'date': datetime.date(2021, 6, 27), 'week': '25'}, {'name': 'International Day of the Tropics', 'date': datetime.date(2021, 6, 29), 'week': '26'}, {'name': 'International Asteroid Day', 'date': datetime.date(2021, 6, 30), 'week': '26'}, {'name': 'International Day of Parliamentarism', 'date': datetime.date(2021, 6, 30), 'week': '26'}, {'name': 'International Day of Cooperatives', 'date': datetime.date(2021, 7, 3), 'week': '26'}, {'name': 'Independence Day', 'date': datetime.date(2021, 7, 4), 'week': '26'}, {'name': 'Independence Day observed', 'date': datetime.date(2021, 7, 5), 'week': '27'}, {'name': 'World Population Day', 'date': datetime.date(2021, 7, 11), 'week': '27'}, {'name': 'Nathan Bedford Forrest Day', 'date': datetime.date(2021, 7, 13), 'week': '28'}, {'name': 'Bastille Day', 'date': datetime.date(2021, 7, 14), 'week': '28'}, {'name': 'World Youth Skills Day', 'date': datetime.date(2021, 7, 15), 'week': '28'}, {'name': 'Rural Transit Day', 'date': datetime.date(2021, 7, 16), 'week': '28'}, {'name': \"Tisha B'Av\", 'date': datetime.date(2021, 7, 18), 'week': '28'}, {'name': 'Nelson Mandela Day', 'date': datetime.date(2021, 7, 18), 'week': '28'}, {'name': 'Eid al-Adha', 'date': datetime.date(2021, 7, 20), 'week': '29'}, {'name': 'World Chess Day', 'date': datetime.date(2021, 7, 20), 'week': '29'}, {'name': 'Pioneer Day observed', 'date': datetime.date(2021, 7, 23), 'week': '29'}, {'name': 'Pioneer Day', 'date': datetime.date(2021, 7, 24), 'week': '29'}, {'name': 'World Drowning Prevention Day', 'date': datetime.date(2021, 7, 25), 'week': '29'}, {'name': \"Parents' Day\", 'date': datetime.date(2021, 7, 25), 'week': '29'}, {'name': 'National Korean War Veterans Armistice Day', 'date': datetime.date(2021, 7, 27), 'week': '30'}, {'name': 'World Hepatitis Day', 'date': datetime.date(2021, 7, 28), 'week': '30'}, {'name': 'International Day of Friendship', 'date': datetime.date(2021, 7, 30), 'week': '30'}, {'name': 'World Day against Trafficking in Persons', 'date': datetime.date(2021, 7, 30), 'week': '30'}, {'name': 'Colorado Day', 'date': datetime.date(2021, 8, 1), 'week': '30'}, {'name': 'Coast Guard Birthday', 'date': datetime.date(2021, 8, 4), 'week': '31'}, {'name': 'Barack Obama Day', 'date': datetime.date(2021, 8, 4), 'week': '31'}, {'name': 'Purple Heart Day', 'date': datetime.date(2021, 8, 7), 'week': '31'}, {'name': \"International Day of the World's Indigenous People\", 'date': datetime.date(2021, 8, 9), 'week': '32'}, {'name': 'Victory Day', 'date': datetime.date(2021, 8, 9), 'week': '32'}, {'name': 'Muharram', 'date': datetime.date(2021, 8, 10), 'week': '32'}, {'name': 'International Youth Day', 'date': datetime.date(2021, 8, 12), 'week': '32'}, {'name': 'Friday the 13th', 'date': datetime.date(2021, 8, 13), 'week': '32'}, {'name': 'Assumption of Mary', 'date': datetime.date(2021, 8, 15), 'week': '32'}, {'name': 'National Senior Citizens Day', 'date': datetime.date(2021, 8, 15), 'week': '32'}, {'name': 'Bennington Battle Day', 'date': datetime.date(2021, 8, 16), 'week': '33'}, {'name': 'Ashura', 'date': datetime.date(2021, 8, 19), 'week': '33'}, {'name': 'World Humanitarian Day', 'date': datetime.date(2021, 8, 19), 'week': '33'}, {'name': 'National Aviation Day', 'date': datetime.date(2021, 8, 19), 'week': '33'}, {'name': 'Hawaii Statehood Day', 'date': datetime.date(2021, 8, 20), 'week': '33'}, {'name': 'Raksha Bandhan', 'date': datetime.date(2021, 8, 21), 'week': '33'}, {'name': 'International Day of Remembrance of and Tribute to the Victims of Terrorism', 'date': datetime.date(2021, 8, 21), 'week': '33'}, {'name': 'International Day Commemorating the Victims of Acts of Violence Based on Religion or Belief', 'date': datetime.date(2021, 8, 22), 'week': '33'}, {'name': 'International Day for the Remembrance of the Slave Trade and its Abolition', 'date': datetime.date(2021, 8, 23), 'week': '34'}, {'name': \"Women's Equality Day\", 'date': datetime.date(2021, 8, 26), 'week': '34'}, {'name': 'Lyndon Baines Johnson Day', 'date': datetime.date(2021, 8, 27), 'week': '34'}, {'name': 'International Day against Nuclear Tests', 'date': datetime.date(2021, 8, 29), 'week': '34'}, {'name': 'International Day of the Victims of Enforced Disappearances', 'date': datetime.date(2021, 8, 30), 'week': '35'}, {'name': 'International Day for People of African Descent', 'date': datetime.date(2021, 8, 31), 'week': '35'}, {'name': 'International Overdose Awareness Day', 'date': datetime.date(2021, 8, 31), 'week': '35'}, {'name': 'World Sexual Health Day', 'date': datetime.date(2021, 9, 4), 'week': '35'}, {'name': 'International Day of Charity', 'date': datetime.date(2021, 9, 5), 'week': '35'}, {'name': 'Labor Day', 'date': datetime.date(2021, 9, 6), 'week': '36'}, {'name': 'Labor Day', 'date': datetime.date(2021, 9, 6), 'week': '36'}, {'name': 'International Day of Clean Air for Blue Skies', 'date': datetime.date(2021, 9, 7), 'week': '36'}, {'name': 'Rosh Hashana', 'date': datetime.date(2021, 9, 7), 'week': '36'}, {'name': 'Rosh Hashana', 'date': datetime.date(2021, 9, 7), 'week': '36'}, {'name': 'International Literacy Day', 'date': datetime.date(2021, 9, 8), 'week': '36'}, {'name': 'International Day to Protect Education from Attack', 'date': datetime.date(2021, 9, 9), 'week': '36'}, {'name': 'California Admission Day', 'date': datetime.date(2021, 9, 9), 'week': '36'}, {'name': 'Ganesh Chaturthi', 'date': datetime.date(2021, 9, 10), 'week': '36'}, {'name': 'World Suicide Prevention Day', 'date': datetime.date(2021, 9, 10), 'week': '36'}, {'name': 'First Responders Day', 'date': datetime.date(2021, 9, 11), 'week': '36'}, {'name': 'Patriot Day', 'date': datetime.date(2021, 9, 11), 'week': '36'}, {'name': 'Carl Garner Federal Lands Cleanup Day', 'date': datetime.date(2021, 9, 11), 'week': '36'}, {'name': 'International Day for South-South Cooperation', 'date': datetime.date(2021, 9, 12), 'week': '36'}, {'name': 'National Grandparents Day', 'date': datetime.date(2021, 9, 12), 'week': '36'}, {'name': \"International Programmers' Day\", 'date': datetime.date(2021, 9, 13), 'week': '37'}, {'name': 'International Day of Democracy', 'date': datetime.date(2021, 9, 15), 'week': '37'}, {'name': 'International Day for the Preservation of the Ozone Layer', 'date': datetime.date(2021, 9, 16), 'week': '37'}, {'name': 'Yom Kippur', 'date': datetime.date(2021, 9, 16), 'week': '37'}, {'name': 'Yom Kippur', 'date': datetime.date(2021, 9, 16), 'week': '37'}, {'name': 'World Patient Safety Day', 'date': datetime.date(2021, 9, 17), 'week': '37'}, {'name': \"Still's Disease Awareness Day\", 'date': datetime.date(2021, 9, 17), 'week': '37'}, {'name': 'Constitution Day and Citizenship Day', 'date': datetime.date(2021, 9, 17), 'week': '37'}, {'name': 'National POW/MIA Recognition Day', 'date': datetime.date(2021, 9, 17), 'week': '37'}, {'name': 'International Equal Pay Day', 'date': datetime.date(2021, 9, 18), 'week': '37'}, {'name': 'Air Force Birthday', 'date': datetime.date(2021, 9, 18), 'week': '37'}, {'name': 'National CleanUp Day', 'date': datetime.date(2021, 9, 18), 'week': '37'}, {'name': 'First Day of Sukkot', 'date': datetime.date(2021, 9, 21), 'week': '38'}, {'name': 'International Day of Peace', 'date': datetime.date(2021, 9, 21), 'week': '38'}, {'name': 'Emancipation Day', 'date': datetime.date(2021, 9, 22), 'week': '38'}, {'name': 'September Equinox', 'date': datetime.date(2021, 9, 22), 'week': '38'}, {'name': 'International Day of Sign Languages', 'date': datetime.date(2021, 9, 23), 'week': '38'}, {'name': 'International Celebrate Bisexuality Day', 'date': datetime.date(2021, 9, 23), 'week': '38'}, {'name': 'Native American Day', 'date': datetime.date(2021, 9, 24), 'week': '38'}, {'name': 'American Indian Heritage Day', 'date': datetime.date(2021, 9, 24), 'week': '38'}, {'name': 'Michigan Indian Day', 'date': datetime.date(2021, 9, 24), 'week': '38'}, {'name': 'International Day for the Total Elimination of Nuclear Weapons', 'date': datetime.date(2021, 9, 26), 'week': '38'}, {'name': \"Gold Star Mother's Day\", 'date': datetime.date(2021, 9, 26), 'week': '38'}, {'name': 'Last Day of Sukkot', 'date': datetime.date(2021, 9, 27), 'week': '39'}, {'name': 'World Tourism Day', 'date': datetime.date(2021, 9, 27), 'week': '39'}, {'name': 'American Indian Day', 'date': datetime.date(2021, 9, 27), 'week': '39'}, {'name': 'Shmini Atzeret', 'date': datetime.date(2021, 9, 28), 'week': '39'}, {'name': 'International Day for Universal Access to Information', 'date': datetime.date(2021, 9, 28), 'week': '39'}, {'name': 'World Rabies Day', 'date': datetime.date(2021, 9, 28), 'week': '39'}, {'name': 'Simchat Torah', 'date': datetime.date(2021, 9, 29), 'week': '39'}, {'name': 'International Day of Awareness of Food Loss and Waste', 'date': datetime.date(2021, 9, 29), 'week': '39'}, {'name': 'World Heart Day', 'date': datetime.date(2021, 9, 29), 'week': '39'}, {'name': 'World Maritime Day', 'date': datetime.date(2021, 9, 30), 'week': '39'}, {'name': 'International Translation Day', 'date': datetime.date(2021, 9, 30), 'week': '39'}, {'name': 'International Day of Older Persons', 'date': datetime.date(2021, 10, 1), 'week': '39'}, {'name': 'World Vegetarian Day', 'date': datetime.date(2021, 10, 1), 'week': '39'}, {'name': 'International Day of Non-Violence', 'date': datetime.date(2021, 10, 2), 'week': '39'}, {'name': 'Feast of St Francis of Assisi', 'date': datetime.date(2021, 10, 4), 'week': '40'}, {'name': 'World Habitat Day', 'date': datetime.date(2021, 10, 4), 'week': '40'}, {'name': 'Frances Xavier Cabrini Day', 'date': datetime.date(2021, 10, 4), 'week': '40'}, {'name': 'Child Health Day', 'date': datetime.date(2021, 10, 4), 'week': '40'}, {'name': \"World Teachers' Day\", 'date': datetime.date(2021, 10, 5), 'week': '40'}, {'name': 'World Cerebral Palsy Day', 'date': datetime.date(2021, 10, 6), 'week': '40'}, {'name': 'World Post Day', 'date': datetime.date(2021, 10, 9), 'week': '40'}, {'name': 'Leif Erikson Day', 'date': datetime.date(2021, 10, 9), 'week': '40'}, {'name': 'World Mental Health Day', 'date': datetime.date(2021, 10, 10), 'week': '40'}, {'name': 'Chicago Marathon', 'date': datetime.date(2021, 10, 10), 'week': '40'}, {'name': 'International Day of the Girl Child', 'date': datetime.date(2021, 10, 11), 'week': '41'}, {'name': 'Columbus Day', 'date': datetime.date(2021, 10, 11), 'week': '41'}, {'name': 'Columbus Day', 'date': datetime.date(2021, 10, 11), 'week': '41'}, {'name': 'Columbus Day', 'date': datetime.date(2021, 10, 11), 'week': '41'}, {'name': 'Fraternal Day', 'date': datetime.date(2021, 10, 11), 'week': '41'}, {'name': 'Yorktown Victory Day', 'date': datetime.date(2021, 10, 11), 'week': '41'}, {'name': 'Discoverers’ Day', 'date': datetime.date(2021, 10, 11), 'week': '41'}, {'name': 'Native American Day', 'date': datetime.date(2021, 10, 11), 'week': '41'}, {'name': 'Native American Day', 'date': datetime.date(2021, 10, 11), 'week': '41'}, {'name': \"Indigenous People's Day (Tentative Date)\", 'date': datetime.date(2021, 10, 11), 'week': '41'}, {'name': \"Indigenous People's Day\", 'date': datetime.date(2021, 10, 11), 'week': '41'}, {'name': \"Indigenous People's Day\", 'date': datetime.date(2021, 10, 11), 'week': '41'}, {'name': 'American Indian Heritage Day', 'date': datetime.date(2021, 10, 11), 'week': '41'}, {'name': 'Boston Marathon (Tentative Date)', 'date': datetime.date(2021, 10, 11), 'week': '41'}, {'name': 'World Spanish Language Day', 'date': datetime.date(2021, 10, 12), 'week': '41'}, {'name': 'International Day for Natural Disaster Reduction', 'date': datetime.date(2021, 10, 13), 'week': '41'}, {'name': 'Navy Birthday', 'date': datetime.date(2021, 10, 13), 'week': '41'}, {'name': 'Dussehra', 'date': datetime.date(2021, 10, 14), 'week': '41'}, {'name': 'World Sight Day', 'date': datetime.date(2021, 10, 14), 'week': '41'}, {'name': 'International Day of Rural Women', 'date': datetime.date(2021, 10, 15), 'week': '41'}, {'name': 'White Cane Safety Day', 'date': datetime.date(2021, 10, 15), 'week': '41'}, {'name': \"Boss's Day\", 'date': datetime.date(2021, 10, 15), 'week': '41'}, {'name': 'World Food Day', 'date': datetime.date(2021, 10, 16), 'week': '41'}, {'name': 'Sweetest Day', 'date': datetime.date(2021, 10, 16), 'week': '41'}, {'name': 'International Day for the Eradication of Poverty', 'date': datetime.date(2021, 10, 17), 'week': '41'}, {'name': 'Alaska Day', 'date': datetime.date(2021, 10, 18), 'week': '42'}, {'name': \"The Prophet's Birthday\", 'date': datetime.date(2021, 10, 19), 'week': '42'}, {'name': 'United Nations Day', 'date': datetime.date(2021, 10, 24), 'week': '42'}, {'name': 'World Development Information Day', 'date': datetime.date(2021, 10, 24), 'week': '42'}, {'name': 'World Day for Audiovisual Heritage', 'date': datetime.date(2021, 10, 27), 'week': '43'}, {'name': 'World Stroke Day', 'date': datetime.date(2021, 10, 29), 'week': '43'}, {'name': 'Nevada Day', 'date': datetime.date(2021, 10, 29), 'week': '43'}, {'name': 'World Cities Day', 'date': datetime.date(2021, 10, 31), 'week': '43'}, {'name': 'Halloween', 'date': datetime.date(2021, 10, 31), 'week': '43'}, {'name': \"All Saints' Day\", 'date': datetime.date(2021, 11, 1), 'week': '44'}, {'name': 'World Vegan Day', 'date': datetime.date(2021, 11, 1), 'week': '44'}, {'name': 'First Day of Native American Heritage Month', 'date': datetime.date(2021, 11, 1), 'week': '44'}, {'name': \"All Souls' Day\", 'date': datetime.date(2021, 11, 2), 'week': '44'}, {'name': 'International Day to End Impunity for Crimes against Journalists', 'date': datetime.date(2021, 11, 2), 'week': '44'}, {'name': 'Election Day', 'date': datetime.date(2021, 11, 2), 'week': '44'}, {'name': 'Election Day', 'date': datetime.date(2021, 11, 2), 'week': '44'}, {'name': 'Diwali/Deepavali', 'date': datetime.date(2021, 11, 4), 'week': '44'}, {'name': 'World Tsunami Awareness Day', 'date': datetime.date(2021, 11, 5), 'week': '44'}, {'name': 'International Day for Preventing the Exploitation of the Environment in War and Armed Conflict', 'date': datetime.date(2021, 11, 6), 'week': '44'}, {'name': 'New York City Marathon', 'date': datetime.date(2021, 11, 7), 'week': '44'}, {'name': 'Daylight Saving Time ends', 'date': datetime.date(2021, 11, 7), 'week': '44'}, {'name': 'Barack Obama Day', 'date': datetime.date(2021, 11, 8), 'week': '45'}, {'name': 'World Science Day for Peace and Development', 'date': datetime.date(2021, 11, 10), 'week': '45'}, {'name': 'Marine Corps Birthday', 'date': datetime.date(2021, 11, 10), 'week': '45'}, {'name': 'Veterans Day', 'date': datetime.date(2021, 11, 11), 'week': '45'}, {'name': 'Veterans Day', 'date': datetime.date(2021, 11, 11), 'week': '45'}, {'name': 'World Pneumonia Day', 'date': datetime.date(2021, 11, 12), 'week': '45'}, {'name': 'World Diabetes Day', 'date': datetime.date(2021, 11, 14), 'week': '45'}, {'name': 'International Day for Tolerance', 'date': datetime.date(2021, 11, 16), 'week': '46'}, {'name': 'World Prematurity Day', 'date': datetime.date(2021, 11, 17), 'week': '46'}, {'name': 'World Philosophy Day', 'date': datetime.date(2021, 11, 18), 'week': '46'}, {'name': 'World Toilet Day', 'date': datetime.date(2021, 11, 19), 'week': '46'}, {'name': \"International Men's Day\", 'date': datetime.date(2021, 11, 19), 'week': '46'}, {'name': \"Universal Children's Day\", 'date': datetime.date(2021, 11, 20), 'week': '46'}, {'name': 'Africa Industrialization Day', 'date': datetime.date(2021, 11, 20), 'week': '46'}, {'name': 'World Day of Remembrance for Road Traffic Victims', 'date': datetime.date(2021, 11, 21), 'week': '46'}, {'name': 'World Television Day', 'date': datetime.date(2021, 11, 21), 'week': '46'}, {'name': 'International Day for the Elimination of Violence against Women', 'date': datetime.date(2021, 11, 25), 'week': '47'}, {'name': 'Thanksgiving Day', 'date': datetime.date(2021, 11, 25), 'week': '47'}, {'name': 'Thanksgiving Day', 'date': datetime.date(2021, 11, 25), 'week': '47'}, {'name': 'State Holiday', 'date': datetime.date(2021, 11, 26), 'week': '47'}, {'name': \"Presidents' Day\", 'date': datetime.date(2021, 11, 26), 'week': '47'}, {'name': \"Lincoln's Birthday/Lincoln's Day\", 'date': datetime.date(2021, 11, 26), 'week': '47'}, {'name': 'Day After Thanksgiving', 'date': datetime.date(2021, 11, 26), 'week': '47'}, {'name': 'Black Friday', 'date': datetime.date(2021, 11, 26), 'week': '47'}, {'name': 'American Indian Heritage Day', 'date': datetime.date(2021, 11, 26), 'week': '47'}, {'name': 'Native American Heritage Day', 'date': datetime.date(2021, 11, 26), 'week': '47'}, {'name': 'Native American Heritage Day', 'date': datetime.date(2021, 11, 26), 'week': '47'}, {'name': 'First Sunday of Advent', 'date': datetime.date(2021, 11, 28), 'week': '47'}, {'name': 'Chanukah/Hanukkah (first day)', 'date': datetime.date(2021, 11, 29), 'week': '48'}, {'name': 'International Day of Solidarity with the Palestinian People', 'date': datetime.date(2021, 11, 29), 'week': '48'}, {'name': 'Cyber Monday', 'date': datetime.date(2021, 11, 29), 'week': '48'}, {'name': 'Day of Remembrance for all Victims of Chemical Warfare', 'date': datetime.date(2021, 11, 30), 'week': '48'}, {'name': 'World AIDS Day', 'date': datetime.date(2021, 12, 1), 'week': '48'}, {'name': 'Rosa Parks Day', 'date': datetime.date(2021, 12, 1), 'week': '48'}, {'name': 'Rosa Parks Day', 'date': datetime.date(2021, 12, 1), 'week': '48'}, {'name': 'International Day for the Abolition of Slavery', 'date': datetime.date(2021, 12, 2), 'week': '48'}, {'name': 'International Day of Persons with Disabilities', 'date': datetime.date(2021, 12, 3), 'week': '48'}, {'name': 'International Day of Banks', 'date': datetime.date(2021, 12, 4), 'week': '48'}, {'name': 'International Volunteer Day for Economic and Social Development', 'date': datetime.date(2021, 12, 5), 'week': '48'}, {'name': 'World Soil Day', 'date': datetime.date(2021, 12, 5), 'week': '48'}, {'name': 'Last Day of Chanukah', 'date': datetime.date(2021, 12, 6), 'week': '49'}, {'name': 'St Nicholas Day', 'date': datetime.date(2021, 12, 6), 'week': '49'}, {'name': 'International Civil Aviation Day', 'date': datetime.date(2021, 12, 7), 'week': '49'}, {'name': 'Pearl Harbor Remembrance Day', 'date': datetime.date(2021, 12, 7), 'week': '49'}, {'name': 'Feast of the Immaculate Conception', 'date': datetime.date(2021, 12, 8), 'week': '49'}, {'name': 'International Anti-Corruption Day', 'date': datetime.date(2021, 12, 9), 'week': '49'}, {'name': 'World Genocide Commemoration Day', 'date': datetime.date(2021, 12, 9), 'week': '49'}, {'name': 'Human Rights Day', 'date': datetime.date(2021, 12, 10), 'week': '49'}, {'name': 'International Mountain Day', 'date': datetime.date(2021, 12, 11), 'week': '49'}, {'name': 'International Day of Neutrality', 'date': datetime.date(2021, 12, 12), 'week': '49'}, {'name': 'International Universal Health Coverage Day', 'date': datetime.date(2021, 12, 12), 'week': '49'}, {'name': 'Feast of Our Lady of Guadalupe', 'date': datetime.date(2021, 12, 12), 'week': '49'}, {'name': 'National Guard Birthday', 'date': datetime.date(2021, 12, 13), 'week': '50'}, {'name': 'Bill of Rights Day', 'date': datetime.date(2021, 12, 15), 'week': '50'}, {'name': 'Pan American Aviation Day', 'date': datetime.date(2021, 12, 17), 'week': '50'}, {'name': 'Wright Brothers Day', 'date': datetime.date(2021, 12, 17), 'week': '50'}, {'name': 'International Migrants Day', 'date': datetime.date(2021, 12, 18), 'week': '50'}, {'name': 'Arabic Language Day', 'date': datetime.date(2021, 12, 18), 'week': '50'}, {'name': 'International Human Solidarity Day', 'date': datetime.date(2021, 12, 20), 'week': '51'}, {'name': 'December Solstice', 'date': datetime.date(2021, 12, 21), 'week': '51'}, {'name': \"Washington's Birthday\", 'date': datetime.date(2021, 12, 23), 'week': '51'}, {'name': 'Day off for Christmas Day', 'date': datetime.date(2021, 12, 24), 'week': '51'}, {'name': 'Christmas Eve', 'date': datetime.date(2021, 12, 24), 'week': '51'}, {'name': 'Christmas Eve', 'date': datetime.date(2021, 12, 24), 'week': '51'}, {'name': 'Christmas Day', 'date': datetime.date(2021, 12, 25), 'week': '51'}, {'name': 'Kwanzaa (first day)', 'date': datetime.date(2021, 12, 26), 'week': '51'}, {'name': 'Day After Christmas Day', 'date': datetime.date(2021, 12, 26), 'week': '51'}, {'name': 'International Day of Epidemic Preparedness', 'date': datetime.date(2021, 12, 27), 'week': '52'}, {'name': \"Day off for New Year's Day\", 'date': datetime.date(2021, 12, 31), 'week': '52'}, {'name': \"Day off for New Year's Day\", 'date': datetime.date(2021, 12, 31), 'week': '52'}, {'name': \"New Year's Eve\", 'date': datetime.date(2021, 12, 31), 'week': '52'}, {'name': \"New Year's Eve\", 'date': datetime.date(2021, 12, 31), 'week': '52'}]\n"
     ]
    }
   ],
   "source": [
    "for x, y, z in zip(namelist, datelist, weeklist):\n",
    "    holidaylist.append({'name':x,'date':y, 'week':z})\n",
    "print(holidaylist)"
   ]
  },
  {
   "cell_type": "code",
   "execution_count": 10,
   "metadata": {},
   "outputs": [],
   "source": [
    "final_holidaylist = []\n",
    "for dic in holidaylist:\n",
    "    if dic not in final_holidaylist:\n",
    "        final_holidaylist.append(dic)"
   ]
  },
  {
   "cell_type": "code",
   "execution_count": 20,
   "metadata": {},
   "outputs": [
    {
     "name": "stdout",
     "output_type": "stream",
     "text": [
      "[{'date': '2021-10-07', 'weather': 'Clear', 'week': '41'}, {'date': '2021-10-08', 'weather': 'Foggy', 'week': '41'}, {'date': '2021-10-09', 'weather': 'Clear', 'week': '41'}, {'date': '2021-10-10', 'weather': 'Clear', 'week': '41'}, {'date': '2021-10-11', 'weather': 'Foggy', 'week': '41'}, {'date': '2021-10-12', 'weather': 'Clear', 'week': '41'}]\n"
     ]
    }
   ],
   "source": [
    "#Api pulled weather for the next 5 days (10/7-10/12)\n",
    "#Calling our weather api\n",
    "weather_response = requests.get('https://api.open-meteo.com/v1/forecast?latitude=40.71&longitude=-74.01&daily=weathercode&timezone=America%2FNew_York')\n",
    "weatherlist = weather_response.json()\n",
    "wcode = (weatherlist['daily']['weathercode'])\n",
    "wdate = (weatherlist['daily']['time'])\n",
    "weathername = []\n",
    "for i in wcode:\n",
    "    if i == 95:\n",
    "        weathername.append('Thunderstorm')\n",
    "    elif i == 80:\n",
    "        weathername.append('Rainy')\n",
    "    elif i == 3:\n",
    "        weathername.append('Clear')\n",
    "    elif i == 45:\n",
    "        weathername.append('Foggy')\n",
    "        \n",
    "weather_date_list = []\n",
    "for x, y in zip(wdate, weathername):\n",
    "    weather_date_list.append({'date':x,'weather':y})\n",
    "\n",
    "weather_weeklist = []\n",
    "get_weatherweek = [i['date'] for i in weather_date_list]\n",
    "for i in get_weatherweek:\n",
    "    i = datetime.strptime(i, '%Y-%m-%d')\n",
    "    i = i.strftime('%V')\n",
    "    weather_weeklist.append(i)\n",
    "\n",
    "for i in weather_date_list:\n",
    "    for j in weather_weeklist:\n",
    "        i.update({'week':j})\n",
    "print(weather_date_list)"
   ]
  },
  {
   "cell_type": "code",
   "execution_count": 12,
   "metadata": {},
   "outputs": [],
   "source": [
    "def exit():\n",
    "    print('Exit')\n",
    "    print('='*len('Exit'))\n",
    "    exit_prompt = input('Are you sure you want to exit? [y/n]: ').lower()\n",
    "    if exit_prompt == 'y':\n",
    "        print('Your changes will be lost.')\n",
    "        final_prompt = input('Are you sure you want to exit? [y/n]: ').lower()\n",
    "        if final_prompt == 'y':\n",
    "            print('Goodbye!')\n",
    "        elif final_prompt == 'n':\n",
    "            menu()\n",
    "        else: \n",
    "            print('That is not a y or n. Try again.')\n",
    "            exit()\n",
    "    elif exit_prompt == 'n':\n",
    "        menu()\n",
    "    else:\n",
    "        print('That is not a y or n. Try again.')\n",
    "        exit()"
   ]
  },
  {
   "cell_type": "code",
   "execution_count": 13,
   "metadata": {},
   "outputs": [],
   "source": [
    "def save():\n",
    "    print('Saving Holiday List')\n",
    "    print('='*len('Saving Holiday List'))\n",
    "    save_prompt = input('Are you sure you want to save your changes? [y/n]: ')\n",
    "    if save_prompt == 'y':\n",
    "        print('Success:')\n",
    "        print('Your changes have been saved.')\n",
    "    elif save_prompt == 'n':\n",
    "        print('Canceled:')\n",
    "        print('Holiday list file save canceled.')\n",
    "    menu()"
   ]
  },
  {
   "cell_type": "code",
   "execution_count": 14,
   "metadata": {},
   "outputs": [],
   "source": [
    "def addHoliday():\n",
    "    print('Add a Holiday')\n",
    "    print('='*len('Add a Holiday'))\n",
    "    date_format = \"%Y-%m-%d\"\n",
    "    new_holidayname = input('Holiday: ')\n",
    "    new_holidaydate = input(str('Date :'))\n",
    "    valid = True\n",
    "    try:\n",
    "        valid = bool(datetime.strptime(new_holidaydate, date_format))\n",
    "        final_holidaylist.append({'name':new_holidayname,'date':new_holidaydate})\n",
    "        print('Success:')\n",
    "        print(f'{new_holidayname} ({new_holidaydate}) has been added to the holiday list.')\n",
    "    except ValueError:\n",
    "        valid = False\n",
    "        print('Error:')\n",
    "        print('Invalid date. Please try again.')\n",
    "    menu()"
   ]
  },
  {
   "cell_type": "code",
   "execution_count": 15,
   "metadata": {},
   "outputs": [],
   "source": [
    "def removeHoliday():\n",
    "    print('Remove a Holiday')\n",
    "    print('='*len('Remove a Holiday'))\n",
    "    name_to_remove = input('Holiday Name: ')\n",
    "    for d in final_holidaylist:\n",
    "        if d['name'] == name_to_remove:\n",
    "            final_holidaylist.remove(d)\n",
    "            print('Success:')\n",
    "            print(f'{name_to_remove} has been removed from the holiday list.')\n",
    "        else:\n",
    "            print('Error:')\n",
    "            print(f'{name_to_remove} not found.')\n",
    "            break;\n",
    "    menu()"
   ]
  },
  {
   "cell_type": "code",
   "execution_count": 69,
   "metadata": {},
   "outputs": [],
   "source": [
    "def viewHoliday():\n",
    "    print('View Holidays')\n",
    "    print('='*len('View Holidays'))\n",
    "    display_year = input('Which year? ')\n",
    "    display_week = input('Which week? #[01-52]: ')\n",
    "    weather_prompt = input(\"Would you like to see this week's weather? [y/n]: \").lower()\n",
    "    print(f'These are the holidays for 2021 week {display_week}')\n",
    "    weekly_holidays = list(filter(lambda x: x['week'] == display_week, final_holidaylist))\n",
    "    for i in weekly_holidays:\n",
    "        print(i['name'], i['date'])\n",
    "    for i in weather_date_list:\n",
    "        if weather_prompt == 'n':\n",
    "            break;\n",
    "        elif i['week'] == display_week:\n",
    "            print(i['date'], i['weather'])\n",
    "        else:\n",
    "            print('No weather available')\n",
    "    menu()"
   ]
  },
  {
   "cell_type": "code",
   "execution_count": 28,
   "metadata": {},
   "outputs": [],
   "source": [
    "def menu():\n",
    "    print('Holiday Menu')\n",
    "    print('='*len('Holiday Menu'))\n",
    "\n",
    "    choice = input(\"\"\"\n",
    "                      1: Add a Holiday\n",
    "                      2: Remove a Holiday\n",
    "                      3: Save Holiday List\n",
    "                      4: View Holidays\n",
    "                      5: Exit\n",
    "\n",
    "                      Please enter your number choice: \"\"\")\n",
    "\n",
    "    if choice == '1':\n",
    "        addHoliday()\n",
    "    elif choice == '2':\n",
    "        removeHoliday()\n",
    "    elif choice == '3':\n",
    "        save()\n",
    "    elif choice == '4':\n",
    "        viewHoliday()\n",
    "    elif choice == '5':\n",
    "        exit()\n",
    "    else:\n",
    "        print('You must only enter a number. Try again.')\n",
    "        menu()"
   ]
  },
  {
   "cell_type": "code",
   "execution_count": 31,
   "metadata": {},
   "outputs": [
    {
     "name": "stdout",
     "output_type": "stream",
     "text": [
      "Holiday Menu\n",
      "============\n",
      "\n",
      "                      1: Add a Holiday\n",
      "                      2: Remove a Holiday\n",
      "                      3: Save Holiday List\n",
      "                      4: View Holidays\n",
      "                      5: Exit\n",
      "\n",
      "                      Please enter your number choice: 5\n",
      "Exit\n",
      "====\n",
      "Are you sure you want to exit? [y/n]: y\n",
      "Your changes will be lost.\n",
      "Are you sure you want to exit? [y/n]: y\n",
      "Goodbye!\n"
     ]
    }
   ],
   "source": [
    "#Did not use a while loop just did not include the menu() in the exit so it ends. As the admin. you must use the exit portion to leave the menu.\n",
    "menu()"
   ]
  },
  {
   "cell_type": "code",
   "execution_count": 72,
   "metadata": {},
   "outputs": [],
   "source": [
    "obj = []\n",
    "for i in final_holidaylist:\n",
    "    obj.append(allHolidays(*i))"
   ]
  },
  {
   "cell_type": "code",
   "execution_count": 73,
   "metadata": {},
   "outputs": [
    {
     "name": "stdout",
     "output_type": "stream",
     "text": [
      "[<__main__.allHolidays object at 0x000002418CE5F100>, <__main__.allHolidays object at 0x000002418CE5FC10>, <__main__.allHolidays object at 0x000002418CE5F550>, <__main__.allHolidays object at 0x000002418CE5F8E0>, <__main__.allHolidays object at 0x000002418CE5F8B0>, <__main__.allHolidays object at 0x000002418B426370>, <__main__.allHolidays object at 0x000002418CE695B0>, <__main__.allHolidays object at 0x000002418CE69250>, <__main__.allHolidays object at 0x000002418CE692E0>, <__main__.allHolidays object at 0x000002418CE69C40>, <__main__.allHolidays object at 0x000002418CE69100>, <__main__.allHolidays object at 0x000002418CE69130>, <__main__.allHolidays object at 0x000002418CE69400>, <__main__.allHolidays object at 0x000002418CE69A90>, <__main__.allHolidays object at 0x000002418CE69AF0>, <__main__.allHolidays object at 0x000002418CE69850>, <__main__.allHolidays object at 0x000002418CE69220>, <__main__.allHolidays object at 0x000002418CE69A30>, <__main__.allHolidays object at 0x000002418CE69F40>, <__main__.allHolidays object at 0x000002418CE69910>, <__main__.allHolidays object at 0x000002418CE697C0>, <__main__.allHolidays object at 0x000002418CE69D90>, <__main__.allHolidays object at 0x000002418CE69C70>, <__main__.allHolidays object at 0x000002418CE69BB0>, <__main__.allHolidays object at 0x000002418CE69430>, <__main__.allHolidays object at 0x000002418CE69EB0>, <__main__.allHolidays object at 0x000002418CE69B20>, <__main__.allHolidays object at 0x000002418CE692B0>, <__main__.allHolidays object at 0x000002418CE69FD0>, <__main__.allHolidays object at 0x000002418CE69E80>, <__main__.allHolidays object at 0x000002418CE69160>, <__main__.allHolidays object at 0x000002418CE690A0>, <__main__.allHolidays object at 0x000002418B93AD60>, <__main__.allHolidays object at 0x000002418B95BE20>, <__main__.allHolidays object at 0x000002418B3CAD90>, <__main__.allHolidays object at 0x000002418B3CA370>, <__main__.allHolidays object at 0x000002418B3D19D0>, <__main__.allHolidays object at 0x000002418B3D1280>, <__main__.allHolidays object at 0x000002418CE12EB0>, <__main__.allHolidays object at 0x000002418B3C4DC0>, <__main__.allHolidays object at 0x000002418B948880>, <__main__.allHolidays object at 0x000002418B9487F0>, <__main__.allHolidays object at 0x000002418CF4E040>, <__main__.allHolidays object at 0x000002418CF4E0A0>, <__main__.allHolidays object at 0x000002418CF4E100>, <__main__.allHolidays object at 0x000002418CF4E160>, <__main__.allHolidays object at 0x000002418CF4E1C0>, <__main__.allHolidays object at 0x000002418CF4E220>, <__main__.allHolidays object at 0x000002418CF4E280>, <__main__.allHolidays object at 0x000002418CF4E2E0>, <__main__.allHolidays object at 0x000002418CF4E340>, <__main__.allHolidays object at 0x000002418CF4E3A0>, <__main__.allHolidays object at 0x000002418CF4E400>, <__main__.allHolidays object at 0x000002418CF4E460>, <__main__.allHolidays object at 0x000002418CF4E4C0>, <__main__.allHolidays object at 0x000002418CF4E520>, <__main__.allHolidays object at 0x000002418CF4E580>, <__main__.allHolidays object at 0x000002418CF56C70>, <__main__.allHolidays object at 0x000002418CF561F0>, <__main__.allHolidays object at 0x000002418CF56E50>, <__main__.allHolidays object at 0x000002418CF56D60>, <__main__.allHolidays object at 0x000002418CF56AF0>, <__main__.allHolidays object at 0x000002418CF56040>, <__main__.allHolidays object at 0x000002418CF564C0>, <__main__.allHolidays object at 0x000002418CF56FA0>, <__main__.allHolidays object at 0x000002418CF56BB0>, <__main__.allHolidays object at 0x000002418CF565E0>, <__main__.allHolidays object at 0x000002418CF560D0>, <__main__.allHolidays object at 0x000002418CF56F70>, <__main__.allHolidays object at 0x000002418CF56EB0>, <__main__.allHolidays object at 0x000002418CF56CA0>, <__main__.allHolidays object at 0x000002418CF56CD0>, <__main__.allHolidays object at 0x000002418CF56490>, <__main__.allHolidays object at 0x000002418CF56940>, <__main__.allHolidays object at 0x000002418CF56F10>, <__main__.allHolidays object at 0x000002418CF56F40>, <__main__.allHolidays object at 0x000002418CF56C40>, <__main__.allHolidays object at 0x000002418CF56730>, <__main__.allHolidays object at 0x000002418CF56A90>, <__main__.allHolidays object at 0x000002418CF56A00>, <__main__.allHolidays object at 0x000002418CF56220>, <__main__.allHolidays object at 0x000002418CF56880>, <__main__.allHolidays object at 0x000002418CF56250>, <__main__.allHolidays object at 0x000002418CF56D30>, <__main__.allHolidays object at 0x000002418CF561C0>, <__main__.allHolidays object at 0x000002418CF5E970>, <__main__.allHolidays object at 0x000002418CF5E0A0>, <__main__.allHolidays object at 0x000002418CF5EB50>, <__main__.allHolidays object at 0x000002418CF5E580>, <__main__.allHolidays object at 0x000002418CF5E3D0>, <__main__.allHolidays object at 0x000002418CF5E220>, <__main__.allHolidays object at 0x000002418CF5E280>, <__main__.allHolidays object at 0x000002418CF5EC70>, <__main__.allHolidays object at 0x000002418CF5EF10>, <__main__.allHolidays object at 0x000002418CF5E250>, <__main__.allHolidays object at 0x000002418CF5EA90>, <__main__.allHolidays object at 0x000002418CF5E9A0>, <__main__.allHolidays object at 0x000002418CF5E670>, <__main__.allHolidays object at 0x000002418CF5E430>, <__main__.allHolidays object at 0x000002418CF5E7C0>, <__main__.allHolidays object at 0x000002418CF5EBB0>, <__main__.allHolidays object at 0x000002418CF5E460>, <__main__.allHolidays object at 0x000002418CF5E6A0>, <__main__.allHolidays object at 0x000002418CF5ED60>, <__main__.allHolidays object at 0x000002418CF5E760>, <__main__.allHolidays object at 0x000002418CF5EE80>, <__main__.allHolidays object at 0x000002418CF5E610>, <__main__.allHolidays object at 0x000002418CF5E2B0>, <__main__.allHolidays object at 0x000002418CF5E7F0>, <__main__.allHolidays object at 0x000002418CF5EBE0>, <__main__.allHolidays object at 0x000002418CF5EA00>, <__main__.allHolidays object at 0x000002418CF5E3A0>, <__main__.allHolidays object at 0x000002418CF5EDF0>, <__main__.allHolidays object at 0x000002418CF5EFA0>, <__main__.allHolidays object at 0x000002418CF5E5E0>, <__main__.allHolidays object at 0x000002418CF5ED90>, <__main__.allHolidays object at 0x000002418CF5EF70>, <__main__.allHolidays object at 0x000002418CF5EEB0>, <__main__.allHolidays object at 0x000002418CF5E640>, <__main__.allHolidays object at 0x000002418CF5EFD0>, <__main__.allHolidays object at 0x000002418CF5E880>, <__main__.allHolidays object at 0x000002418CF5EA30>, <__main__.allHolidays object at 0x000002418CF5E940>, <__main__.allHolidays object at 0x000002418CF5E700>, <__main__.allHolidays object at 0x000002418CF5EB20>, <__main__.allHolidays object at 0x000002418CF48070>, <__main__.allHolidays object at 0x000002418CF480D0>, <__main__.allHolidays object at 0x000002418CF48130>, <__main__.allHolidays object at 0x000002418CF48190>, <__main__.allHolidays object at 0x000002418CF481F0>, <__main__.allHolidays object at 0x000002418CF48250>, <__main__.allHolidays object at 0x000002418CF482B0>, <__main__.allHolidays object at 0x000002418CF48310>, <__main__.allHolidays object at 0x000002418CF48370>, <__main__.allHolidays object at 0x000002418CF483D0>, <__main__.allHolidays object at 0x000002418CF48430>, <__main__.allHolidays object at 0x000002418CF48490>, <__main__.allHolidays object at 0x000002418CF484F0>, <__main__.allHolidays object at 0x000002418CF48550>, <__main__.allHolidays object at 0x000002418CF485B0>, <__main__.allHolidays object at 0x000002418CF48610>, <__main__.allHolidays object at 0x000002418CF48670>, <__main__.allHolidays object at 0x000002418CF486D0>, <__main__.allHolidays object at 0x000002418CF48730>, <__main__.allHolidays object at 0x000002418CF48790>, <__main__.allHolidays object at 0x000002418CF487F0>, <__main__.allHolidays object at 0x000002418CF48850>, <__main__.allHolidays object at 0x000002418CF488B0>, <__main__.allHolidays object at 0x000002418CF48910>, <__main__.allHolidays object at 0x000002418CF48970>, <__main__.allHolidays object at 0x000002418CF489D0>, <__main__.allHolidays object at 0x000002418CF48A30>, <__main__.allHolidays object at 0x000002418CF48A90>, <__main__.allHolidays object at 0x000002418CF48AF0>, <__main__.allHolidays object at 0x000002418CF48B50>, <__main__.allHolidays object at 0x000002418CF48BB0>, <__main__.allHolidays object at 0x000002418CF48C10>, <__main__.allHolidays object at 0x000002418CF48C70>, <__main__.allHolidays object at 0x000002418CF48CD0>, <__main__.allHolidays object at 0x000002418CF48D30>, <__main__.allHolidays object at 0x000002418CF48D90>, <__main__.allHolidays object at 0x000002418CF48DF0>, <__main__.allHolidays object at 0x000002418CF48E50>, <__main__.allHolidays object at 0x000002418CF48EB0>, <__main__.allHolidays object at 0x000002418CF48F10>, <__main__.allHolidays object at 0x000002418CF48F70>, <__main__.allHolidays object at 0x000002418CF48FD0>, <__main__.allHolidays object at 0x000002418CF3E070>, <__main__.allHolidays object at 0x000002418CF3E0D0>, <__main__.allHolidays object at 0x000002418CF3E130>, <__main__.allHolidays object at 0x000002418CF3E190>, <__main__.allHolidays object at 0x000002418CF3E1F0>, <__main__.allHolidays object at 0x000002418CF3E250>, <__main__.allHolidays object at 0x000002418CF3E2B0>, <__main__.allHolidays object at 0x000002418CF3E310>, <__main__.allHolidays object at 0x000002418CF3E370>, <__main__.allHolidays object at 0x000002418CF3E3D0>, <__main__.allHolidays object at 0x000002418CF3E430>, <__main__.allHolidays object at 0x000002418CF3E490>, <__main__.allHolidays object at 0x000002418CF3E4F0>, <__main__.allHolidays object at 0x000002418CF3E550>, <__main__.allHolidays object at 0x000002418CF3E5B0>, <__main__.allHolidays object at 0x000002418CF3E610>, <__main__.allHolidays object at 0x000002418CF3E670>, <__main__.allHolidays object at 0x000002418CF3E6D0>, <__main__.allHolidays object at 0x000002418CF3E730>, <__main__.allHolidays object at 0x000002418CF3E790>, <__main__.allHolidays object at 0x000002418CF3E7F0>, <__main__.allHolidays object at 0x000002418CF3E850>, <__main__.allHolidays object at 0x000002418CF3E8B0>, <__main__.allHolidays object at 0x000002418CF3E910>, <__main__.allHolidays object at 0x000002418CF3E970>, <__main__.allHolidays object at 0x000002418CF3E9D0>, <__main__.allHolidays object at 0x000002418CF3EA30>, <__main__.allHolidays object at 0x000002418CF3EA90>, <__main__.allHolidays object at 0x000002418CF3EAF0>, <__main__.allHolidays object at 0x000002418CF3EB50>, <__main__.allHolidays object at 0x000002418CF3EBB0>, <__main__.allHolidays object at 0x000002418CF3EC10>, <__main__.allHolidays object at 0x000002418CF3EC70>, <__main__.allHolidays object at 0x000002418CF3ECD0>, <__main__.allHolidays object at 0x000002418CF3ED30>, <__main__.allHolidays object at 0x000002418CF3ED90>, <__main__.allHolidays object at 0x000002418CF3EDF0>, <__main__.allHolidays object at 0x000002418CF3EE50>, <__main__.allHolidays object at 0x000002418CF3EEB0>, <__main__.allHolidays object at 0x000002418CF3EF10>, <__main__.allHolidays object at 0x000002418CF3EF70>, <__main__.allHolidays object at 0x000002418CF3EFD0>, <__main__.allHolidays object at 0x000002418CF35070>, <__main__.allHolidays object at 0x000002418CF350D0>, <__main__.allHolidays object at 0x000002418CF35130>, <__main__.allHolidays object at 0x000002418CF35190>, <__main__.allHolidays object at 0x000002418CF351F0>, <__main__.allHolidays object at 0x000002418CF35250>, <__main__.allHolidays object at 0x000002418CF352B0>, <__main__.allHolidays object at 0x000002418CF35310>, <__main__.allHolidays object at 0x000002418CF35370>, <__main__.allHolidays object at 0x000002418CF353D0>, <__main__.allHolidays object at 0x000002418CF35430>, <__main__.allHolidays object at 0x000002418CF35490>, <__main__.allHolidays object at 0x000002418CF354F0>, <__main__.allHolidays object at 0x000002418CF35550>, <__main__.allHolidays object at 0x000002418CF355B0>, <__main__.allHolidays object at 0x000002418CF35610>, <__main__.allHolidays object at 0x000002418CF35670>, <__main__.allHolidays object at 0x000002418CF356D0>, <__main__.allHolidays object at 0x000002418CF35730>, <__main__.allHolidays object at 0x000002418CF35790>, <__main__.allHolidays object at 0x000002418CF357F0>, <__main__.allHolidays object at 0x000002418CF35850>, <__main__.allHolidays object at 0x000002418CF358B0>, <__main__.allHolidays object at 0x000002418CF35910>, <__main__.allHolidays object at 0x000002418CF35970>, <__main__.allHolidays object at 0x000002418CF359D0>, <__main__.allHolidays object at 0x000002418CF35A30>, <__main__.allHolidays object at 0x000002418CF35A90>, <__main__.allHolidays object at 0x000002418CF35AF0>, <__main__.allHolidays object at 0x000002418CF35B50>, <__main__.allHolidays object at 0x000002418CF35BB0>, <__main__.allHolidays object at 0x000002418CF35C10>, <__main__.allHolidays object at 0x000002418CF35C70>, <__main__.allHolidays object at 0x000002418CF35CD0>, <__main__.allHolidays object at 0x000002418CF35D30>, <__main__.allHolidays object at 0x000002418CF35D90>, <__main__.allHolidays object at 0x000002418CF35DF0>, <__main__.allHolidays object at 0x000002418CF35E50>, <__main__.allHolidays object at 0x000002418CF35EB0>, <__main__.allHolidays object at 0x000002418CF35F10>, <__main__.allHolidays object at 0x000002418CF35F70>, <__main__.allHolidays object at 0x000002418CF35FD0>, <__main__.allHolidays object at 0x000002418CF37070>, <__main__.allHolidays object at 0x000002418CF370D0>, <__main__.allHolidays object at 0x000002418CF37130>, <__main__.allHolidays object at 0x000002418CF37190>, <__main__.allHolidays object at 0x000002418CF371F0>, <__main__.allHolidays object at 0x000002418CF37250>, <__main__.allHolidays object at 0x000002418CF372B0>, <__main__.allHolidays object at 0x000002418CF37310>, <__main__.allHolidays object at 0x000002418CF37370>, <__main__.allHolidays object at 0x000002418CF373D0>, <__main__.allHolidays object at 0x000002418CF37430>, <__main__.allHolidays object at 0x000002418CF37490>, <__main__.allHolidays object at 0x000002418CF374F0>, <__main__.allHolidays object at 0x000002418CF37550>, <__main__.allHolidays object at 0x000002418CF375B0>, <__main__.allHolidays object at 0x000002418CF37610>, <__main__.allHolidays object at 0x000002418CF37670>, <__main__.allHolidays object at 0x000002418CF376D0>, <__main__.allHolidays object at 0x000002418CF37730>, <__main__.allHolidays object at 0x000002418CF37790>, <__main__.allHolidays object at 0x000002418CF377F0>, <__main__.allHolidays object at 0x000002418CF37850>, <__main__.allHolidays object at 0x000002418CF378B0>, <__main__.allHolidays object at 0x000002418CF37910>, <__main__.allHolidays object at 0x000002418CF37970>, <__main__.allHolidays object at 0x000002418CF379D0>, <__main__.allHolidays object at 0x000002418CF37A30>, <__main__.allHolidays object at 0x000002418CF37A90>, <__main__.allHolidays object at 0x000002418CF37AF0>, <__main__.allHolidays object at 0x000002418CF37B50>, <__main__.allHolidays object at 0x000002418CF37BB0>, <__main__.allHolidays object at 0x000002418CF37C10>, <__main__.allHolidays object at 0x000002418CF37C70>, <__main__.allHolidays object at 0x000002418CF37CD0>, <__main__.allHolidays object at 0x000002418CF37D30>, <__main__.allHolidays object at 0x000002418CF37D90>, <__main__.allHolidays object at 0x000002418CF37DF0>, <__main__.allHolidays object at 0x000002418CF37E50>, <__main__.allHolidays object at 0x000002418CF37EB0>, <__main__.allHolidays object at 0x000002418CF37F10>, <__main__.allHolidays object at 0x000002418CF37F70>, <__main__.allHolidays object at 0x000002418CF37FD0>, <__main__.allHolidays object at 0x000002418CF3F070>, <__main__.allHolidays object at 0x000002418CF3F0A0>, <__main__.allHolidays object at 0x000002418CF3F130>, <__main__.allHolidays object at 0x000002418CF3F190>, <__main__.allHolidays object at 0x000002418CF3F1C0>, <__main__.allHolidays object at 0x000002418CF3F280>, <__main__.allHolidays object at 0x000002418CF3F2B0>, <__main__.allHolidays object at 0x000002418CF3F340>, <__main__.allHolidays object at 0x000002418CF3F3D0>, <__main__.allHolidays object at 0x000002418CF3F430>, <__main__.allHolidays object at 0x000002418CF3F4C0>, <__main__.allHolidays object at 0x000002418CF3F550>, <__main__.allHolidays object at 0x000002418CF3F580>, <__main__.allHolidays object at 0x000002418CF3F5E0>, <__main__.allHolidays object at 0x000002418CF3F640>, <__main__.allHolidays object at 0x000002418CF3F6A0>, <__main__.allHolidays object at 0x000002418CF3F700>, <__main__.allHolidays object at 0x000002418CF3F760>, <__main__.allHolidays object at 0x000002418CF3F7C0>, <__main__.allHolidays object at 0x000002418CF3F820>, <__main__.allHolidays object at 0x000002418CF3F8B0>, <__main__.allHolidays object at 0x000002418CF3F8E0>, <__main__.allHolidays object at 0x000002418CF3F970>, <__main__.allHolidays object at 0x000002418CF3F940>, <__main__.allHolidays object at 0x000002418CF3F9D0>, <__main__.allHolidays object at 0x000002418CF3F460>, <__main__.allHolidays object at 0x000002418CF3FA60>, <__main__.allHolidays object at 0x000002418CF3FAC0>, <__main__.allHolidays object at 0x000002418CF3FB20>, <__main__.allHolidays object at 0x000002418CF3FB80>, <__main__.allHolidays object at 0x000002418CF3F520>, <__main__.allHolidays object at 0x000002418CF3FC40>, <__main__.allHolidays object at 0x000002418CF3FCA0>, <__main__.allHolidays object at 0x000002418CF3FD00>, <__main__.allHolidays object at 0x000002418CF3FD60>, <__main__.allHolidays object at 0x000002418CF3FDC0>, <__main__.allHolidays object at 0x000002418CF3FE20>, <__main__.allHolidays object at 0x000002418CF3FE80>, <__main__.allHolidays object at 0x000002418CF3FEE0>, <__main__.allHolidays object at 0x000002418CF3FF10>, <__main__.allHolidays object at 0x000002418CF3FFA0>, <__main__.allHolidays object at 0x000002418CF3FBE0>, <__main__.allHolidays object at 0x000002418CF49070>, <__main__.allHolidays object at 0x000002418CF490D0>, <__main__.allHolidays object at 0x000002418CF49130>, <__main__.allHolidays object at 0x000002418CF49190>, <__main__.allHolidays object at 0x000002418CF491F0>, <__main__.allHolidays object at 0x000002418CF49250>, <__main__.allHolidays object at 0x000002418CF492B0>, <__main__.allHolidays object at 0x000002418CF49310>, <__main__.allHolidays object at 0x000002418CF49370>, <__main__.allHolidays object at 0x000002418CF493D0>, <__main__.allHolidays object at 0x000002418CF49430>, <__main__.allHolidays object at 0x000002418CF49490>, <__main__.allHolidays object at 0x000002418CF494F0>, <__main__.allHolidays object at 0x000002418CF49550>, <__main__.allHolidays object at 0x000002418CF495B0>, <__main__.allHolidays object at 0x000002418CF49610>, <__main__.allHolidays object at 0x000002418CF49670>, <__main__.allHolidays object at 0x000002418CF496D0>, <__main__.allHolidays object at 0x000002418CF49730>, <__main__.allHolidays object at 0x000002418CF49790>, <__main__.allHolidays object at 0x000002418CF497F0>, <__main__.allHolidays object at 0x000002418CF49850>, <__main__.allHolidays object at 0x000002418CF498B0>, <__main__.allHolidays object at 0x000002418CF49910>, <__main__.allHolidays object at 0x000002418CF49970>, <__main__.allHolidays object at 0x000002418CF499D0>, <__main__.allHolidays object at 0x000002418CF49A30>, <__main__.allHolidays object at 0x000002418CF49A90>, <__main__.allHolidays object at 0x000002418CF49AF0>, <__main__.allHolidays object at 0x000002418CF49B50>, <__main__.allHolidays object at 0x000002418CF49BB0>, <__main__.allHolidays object at 0x000002418CF49C10>, <__main__.allHolidays object at 0x000002418CF49C70>, <__main__.allHolidays object at 0x000002418CF49CD0>, <__main__.allHolidays object at 0x000002418CF49D30>, <__main__.allHolidays object at 0x000002418CF49D90>, <__main__.allHolidays object at 0x000002418CF49DF0>, <__main__.allHolidays object at 0x000002418CF49E50>, <__main__.allHolidays object at 0x000002418CF49EB0>, <__main__.allHolidays object at 0x000002418CF49F10>, <__main__.allHolidays object at 0x000002418CF49F70>, <__main__.allHolidays object at 0x000002418CF49FD0>, <__main__.allHolidays object at 0x000002418CF4A070>, <__main__.allHolidays object at 0x000002418CF4A0D0>, <__main__.allHolidays object at 0x000002418CF4A130>, <__main__.allHolidays object at 0x000002418CF4A190>, <__main__.allHolidays object at 0x000002418CF4A1F0>, <__main__.allHolidays object at 0x000002418CF4A250>, <__main__.allHolidays object at 0x000002418CF4A2B0>, <__main__.allHolidays object at 0x000002418CF4A310>, <__main__.allHolidays object at 0x000002418CF4A370>, <__main__.allHolidays object at 0x000002418CF4A3D0>, <__main__.allHolidays object at 0x000002418CF4A430>, <__main__.allHolidays object at 0x000002418CF4A490>, <__main__.allHolidays object at 0x000002418CF5EB80>, <__main__.allHolidays object at 0x000002418CF56B20>, <__main__.allHolidays object at 0x000002418CE5F7C0>, <__main__.allHolidays object at 0x000002418CE5F880>, <__main__.allHolidays object at 0x000002418CE5FBB0>, <__main__.allHolidays object at 0x000002418CE12E50>, <__main__.allHolidays object at 0x000002418CE12C70>, <__main__.allHolidays object at 0x000002418CE12EE0>, <__main__.allHolidays object at 0x000002418CF4EB50>, <__main__.allHolidays object at 0x000002418CF4E9A0>, <__main__.allHolidays object at 0x000002418CF4E700>, <__main__.allHolidays object at 0x000002418CF4ECA0>, <__main__.allHolidays object at 0x000002418CF4A4F0>, <__main__.allHolidays object at 0x000002418CF4A550>, <__main__.allHolidays object at 0x000002418CF4A5B0>, <__main__.allHolidays object at 0x000002418CF4A610>, <__main__.allHolidays object at 0x000002418CF4A670>, <__main__.allHolidays object at 0x000002418CF4A6D0>, <__main__.allHolidays object at 0x000002418CF4A730>, <__main__.allHolidays object at 0x000002418CF4A790>, <__main__.allHolidays object at 0x000002418CF4A7F0>, <__main__.allHolidays object at 0x000002418CF4A850>, <__main__.allHolidays object at 0x000002418CF4A8B0>, <__main__.allHolidays object at 0x000002418CF4A910>, <__main__.allHolidays object at 0x000002418CF4A970>, <__main__.allHolidays object at 0x000002418CF4A9D0>, <__main__.allHolidays object at 0x000002418CF4AA30>, <__main__.allHolidays object at 0x000002418CF4AA90>, <__main__.allHolidays object at 0x000002418CF4AAF0>, <__main__.allHolidays object at 0x000002418CF4AB50>, <__main__.allHolidays object at 0x000002418CF4ABB0>, <__main__.allHolidays object at 0x000002418CF4AC10>, <__main__.allHolidays object at 0x000002418CF4AC70>, <__main__.allHolidays object at 0x000002418CF4ACD0>, <__main__.allHolidays object at 0x000002418CF4AD30>, <__main__.allHolidays object at 0x000002418CF4AD90>, <__main__.allHolidays object at 0x000002418CF4ADF0>, <__main__.allHolidays object at 0x000002418CF4AE50>, <__main__.allHolidays object at 0x000002418CF4AEB0>, <__main__.allHolidays object at 0x000002418CF4AF10>, <__main__.allHolidays object at 0x000002418CF4AF70>, <__main__.allHolidays object at 0x000002418CF4AFD0>, <__main__.allHolidays object at 0x000002418CF6A070>, <__main__.allHolidays object at 0x000002418CF6A0D0>, <__main__.allHolidays object at 0x000002418CF6A130>, <__main__.allHolidays object at 0x000002418CF6A190>, <__main__.allHolidays object at 0x000002418CF6A1F0>, <__main__.allHolidays object at 0x000002418CF6A250>, <__main__.allHolidays object at 0x000002418CF6A2B0>, <__main__.allHolidays object at 0x000002418CF6A310>, <__main__.allHolidays object at 0x000002418CF6A370>, <__main__.allHolidays object at 0x000002418CF6A3D0>, <__main__.allHolidays object at 0x000002418CF6A430>, <__main__.allHolidays object at 0x000002418CF6A490>, <__main__.allHolidays object at 0x000002418CF6A4F0>, <__main__.allHolidays object at 0x000002418CF6A550>, <__main__.allHolidays object at 0x000002418CF6A5B0>, <__main__.allHolidays object at 0x000002418CF6A610>, <__main__.allHolidays object at 0x000002418CF6A670>, <__main__.allHolidays object at 0x000002418CF6A6D0>, <__main__.allHolidays object at 0x000002418CF6A730>, <__main__.allHolidays object at 0x000002418CF6A790>, <__main__.allHolidays object at 0x000002418CF6A7F0>, <__main__.allHolidays object at 0x000002418CF6A850>, <__main__.allHolidays object at 0x000002418CF6A8B0>, <__main__.allHolidays object at 0x000002418CF6A910>, <__main__.allHolidays object at 0x000002418CF6A970>, <__main__.allHolidays object at 0x000002418CF6A9D0>, <__main__.allHolidays object at 0x000002418CF6AA30>, <__main__.allHolidays object at 0x000002418CF6AA90>, <__main__.allHolidays object at 0x000002418CF6AAF0>, <__main__.allHolidays object at 0x000002418CF6AB50>, <__main__.allHolidays object at 0x000002418CF6ABB0>, <__main__.allHolidays object at 0x000002418CF6AC10>, <__main__.allHolidays object at 0x000002418CF6AC70>, <__main__.allHolidays object at 0x000002418CF6ACD0>, <__main__.allHolidays object at 0x000002418CF6AD30>, <__main__.allHolidays object at 0x000002418CF6AD90>, <__main__.allHolidays object at 0x000002418CF6ADF0>, <__main__.allHolidays object at 0x000002418CF6AE50>, <__main__.allHolidays object at 0x000002418CF6AEB0>, <__main__.allHolidays object at 0x000002418CF6AF10>, <__main__.allHolidays object at 0x000002418CF6AF70>, <__main__.allHolidays object at 0x000002418CF6AFD0>, <__main__.allHolidays object at 0x000002418CF4B070>, <__main__.allHolidays object at 0x000002418CF4B0D0>, <__main__.allHolidays object at 0x000002418CF4B130>, <__main__.allHolidays object at 0x000002418CF4B190>, <__main__.allHolidays object at 0x000002418CF4B1F0>, <__main__.allHolidays object at 0x000002418CF4B250>]\n"
     ]
    }
   ],
   "source": [
    "print(obj)"
   ]
  }
 ],
 "metadata": {
  "kernelspec": {
   "display_name": "Python 3",
   "language": "python",
   "name": "python3"
  },
  "language_info": {
   "codemirror_mode": {
    "name": "ipython",
    "version": 3
   },
   "file_extension": ".py",
   "mimetype": "text/x-python",
   "name": "python",
   "nbconvert_exporter": "python",
   "pygments_lexer": "ipython3",
   "version": "3.8.3"
  }
 },
 "nbformat": 4,
 "nbformat_minor": 4
}
